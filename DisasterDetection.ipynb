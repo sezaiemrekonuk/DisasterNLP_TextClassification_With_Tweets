{
 "cells": [
  {
   "cell_type": "code",
   "execution_count": 1,
   "id": "bedd72b4",
   "metadata": {},
   "outputs": [
    {
     "name": "stderr",
     "output_type": "stream",
     "text": [
      "[nltk_data] Downloading package punkt to\n",
      "[nltk_data]     C:\\Users\\sezai\\AppData\\Roaming\\nltk_data...\n",
      "[nltk_data]   Package punkt is already up-to-date!\n",
      "[nltk_data] Downloading package averaged_perceptron_tagger_eng to\n",
      "[nltk_data]     C:\\Users\\sezai\\AppData\\Roaming\\nltk_data...\n",
      "[nltk_data]   Package averaged_perceptron_tagger_eng is already up-to-\n",
      "[nltk_data]       date!\n",
      "[nltk_data] Downloading package wordnet to\n",
      "[nltk_data]     C:\\Users\\sezai\\AppData\\Roaming\\nltk_data...\n",
      "[nltk_data]   Package wordnet is already up-to-date!\n",
      "[nltk_data] Downloading package stopwords to\n",
      "[nltk_data]     C:\\Users\\sezai\\AppData\\Roaming\\nltk_data...\n",
      "[nltk_data]   Package stopwords is already up-to-date!\n"
     ]
    }
   ],
   "source": [
    "import pandas as pd\n",
    "import numpy as np\n",
    "\n",
    "# text-preprocessing\n",
    "import re, string\n",
    "import nltk\n",
    "from nltk.tokenize import word_tokenize\n",
    "from nltk.corpus import stopwords\n",
    "from nltk.stem import SnowballStemmer\n",
    "from nltk.corpus import wordnet\n",
    "from nltk.stem import WordNetLemmatizer\n",
    "\n",
    "nltk.download('punkt')\n",
    "nltk.download('averaged_perceptron_tagger_eng')  # Correct resource name\n",
    "nltk.download('wordnet')\n",
    "nltk.download('stopwords')\n",
    "\n",
    "# model building\n",
    "from sklearn.model_selection import train_test_split\n",
    "from sklearn.linear_model import LogisticRegression\n",
    "from sklearn.naive_bayes import MultinomialNB\n",
    "from sklearn.metrics import classification_report, f1_score, accuracy_score, confusion_matrix\n",
    "from sklearn.metrics import roc_auc_score, roc_curve, auc\n",
    "\n",
    "# bag of words\n",
    "from sklearn.feature_extraction.text import TfidfVectorizer\n",
    "from sklearn.feature_extraction.text import CountVectorizer\n",
    "\n",
    "# word embedding\n",
    "import gensim\n",
    "from gensim.models import Word2Vec"
   ]
  },
  {
   "cell_type": "code",
   "execution_count": 2,
   "id": "4ac31c0a",
   "metadata": {},
   "outputs": [],
   "source": [
    "data_paths = {\n",
    "    'train': 'data/train.csv',\n",
    "    'test': 'data/test.csv',\n",
    "    'sample_submission': 'data/sample_submission.csv'\n",
    "}\n",
    "\n",
    "def load_data():\n",
    "    train_df = pd.read_csv(data_paths['train'])\n",
    "    test_df = pd.read_csv(data_paths['test'])\n",
    "    sample_submission_df = pd.read_csv(data_paths['sample_submission'])\n",
    "    \n",
    "    return train_df, test_df, sample_submission_df"
   ]
  },
  {
   "cell_type": "code",
   "execution_count": 3,
   "id": "9c5d4efc",
   "metadata": {},
   "outputs": [
    {
     "name": "stdout",
     "output_type": "stream",
     "text": [
      "Train DataFrame shape: (7613, 5)\n",
      "Info for train_df:\n",
      "<class 'pandas.core.frame.DataFrame'>\n",
      "RangeIndex: 7613 entries, 0 to 7612\n",
      "Data columns (total 5 columns):\n",
      " #   Column    Non-Null Count  Dtype \n",
      "---  ------    --------------  ----- \n",
      " 0   id        7613 non-null   int64 \n",
      " 1   keyword   7552 non-null   object\n",
      " 2   location  5080 non-null   object\n",
      " 3   text      7613 non-null   object\n",
      " 4   target    7613 non-null   int64 \n",
      "dtypes: int64(2), object(3)\n",
      "memory usage: 297.5+ KB\n",
      "Info for test_df:\n",
      "<class 'pandas.core.frame.DataFrame'>\n",
      "RangeIndex: 3263 entries, 0 to 3262\n",
      "Data columns (total 4 columns):\n",
      " #   Column    Non-Null Count  Dtype \n",
      "---  ------    --------------  ----- \n",
      " 0   id        3263 non-null   int64 \n",
      " 1   keyword   3237 non-null   object\n",
      " 2   location  2158 non-null   object\n",
      " 3   text      3263 non-null   object\n",
      "dtypes: int64(1), object(3)\n",
      "memory usage: 102.1+ KB\n"
     ]
    }
   ],
   "source": [
    "train_df, test_df, sample_submission_df = load_data()\n",
    "\n",
    "# See if our DF is loaded correctly\n",
    "print(\"Train DataFrame shape:\", train_df.shape)\n",
    "train_df.head()\n",
    "\n",
    "print('Info for train_df:')\n",
    "train_df.info()\n",
    "\n",
    "print('Info for test_df:')\n",
    "test_df.info()"
   ]
  },
  {
   "cell_type": "markdown",
   "id": "856ff7c7",
   "metadata": {},
   "source": [
    "We have null values in our data."
   ]
  },
  {
   "cell_type": "code",
   "execution_count": 4,
   "id": "812e11f6",
   "metadata": {},
   "outputs": [
    {
     "name": "stdout",
     "output_type": "stream",
     "text": [
      "Class distribution in training data:\n",
      "target\n",
      "0    4342\n",
      "1    3271\n",
      "Name: count, dtype: int64\n"
     ]
    },
    {
     "data": {
      "text/plain": [
       "<Axes: xlabel='target'>"
      ]
     },
     "execution_count": 4,
     "metadata": {},
     "output_type": "execute_result"
    },
    {
     "data": {
      "image/png": "[encoded data removed]",
      "text/plain": [
       "<Figure size 640x480 with 1 Axes>"
      ]
     },
     "metadata": {},
     "output_type": "display_data"
    }
   ],
   "source": [
    "import seaborn as sns\n",
    "\n",
    "# check the class distribution\n",
    "print(\"Class distribution in training data:\")\n",
    "x = train_df['target'].value_counts()\n",
    "print(x)\n",
    "\n",
    "sns.barplot(x=x.index, y=x.values)"
   ]
  },
  {
   "cell_type": "code",
   "execution_count": 5,
   "id": "4ac4fd2c",
   "metadata": {},
   "outputs": [
    {
     "data": {
      "text/plain": [
       "id             0\n",
       "keyword       61\n",
       "location    2533\n",
       "text           0\n",
       "target         0\n",
       "dtype: int64"
      ]
     },
     "execution_count": 5,
     "metadata": {},
     "output_type": "execute_result"
    }
   ],
   "source": [
    "train_df.isna().sum()"
   ]
  },
  {
   "cell_type": "code",
   "execution_count": 6,
   "id": "c9af63bc",
   "metadata": {},
   "outputs": [
    {
     "name": "stdout",
     "output_type": "stream",
     "text": [
      "15.167532864567411\n",
      "14.704744357438969\n"
     ]
    }
   ],
   "source": [
    "# find the wordcount for each text\n",
    "train_df['word_count'] = train_df['text'].apply(lambda x: len(str(x).split()))\n",
    "\n",
    "print(train_df[train_df['target'] == 1]['word_count'].mean()) # disaster\n",
    "print(train_df[train_df['target'] == 0]['word_count'].mean()) # non-disaster"
   ]
  },
  {
   "cell_type": "code",
   "execution_count": 7,
   "id": "c895f41c",
   "metadata": {},
   "outputs": [
    {
     "data": {
      "image/png": "[encoded data removed]",
      "text/plain": [
       "<Figure size 1000x400 with 2 Axes>"
      ]
     },
     "metadata": {},
     "output_type": "display_data"
    },
    {
     "name": "stdout",
     "output_type": "stream",
     "text": [
      "15.167532864567411 14.704744357438969\n"
     ]
    }
   ],
   "source": [
    "import matplotlib.pyplot as plt\n",
    "\n",
    "# plotting the word count\n",
    "fig, (ax1, ax2) = plt.subplots(1, 2, figsize=(10,4))\n",
    "train_words_disaster = train_df[train_df['target'] == 1]['word_count']\n",
    "ax1.hist(train_words_disaster, color = 'red')\n",
    "ax1.set_title('Disaster Tweets')\n",
    "\n",
    "train_words_nondisaster = train_df[train_df['target'] == 0]['word_count']\n",
    "ax2.hist(train_words_disaster, color = 'green')\n",
    "ax2.set_title('Non-disaster Tweets')\n",
    "\n",
    "fig.suptitle('Words per tweet')\n",
    "plt.show()\n",
    "\n",
    "print(train_words_disaster.mean(), train_words_nondisaster.mean())"
   ]
  },
  {
   "cell_type": "markdown",
   "id": "b696e3c4",
   "metadata": {},
   "source": [
    "## Moving onto Text-Preprocessing\n",
    "We will use nltk, string, re etc. to\n",
    "- Remove punctuations\n",
    "- Remove leading and trailing (extra) spaces\n",
    "- Remove stop words\n",
    "- Remove typos and stemming them"
   ]
  },
  {
   "cell_type": "code",
   "execution_count": 8,
   "id": "b6028e98",
   "metadata": {},
   "outputs": [],
   "source": [
    "def lower_strip(text):\n",
    "    return text.lower().strip()\n",
    "\n",
    "# convert to lowercase, strip and remove punctiations\n",
    "def preprocess(text):\n",
    "    text = lower_strip(text)\n",
    "    text = re.compile('<.*?>').sub('', text)\n",
    "    text = re.compile('[%s]' % re.escape(string.punctuation)).sub(' ', text)\n",
    "    text = re.sub(r'\\s+', ' ', text)\n",
    "    text = re.sub(r'\\[[0-9]*\\]', ' ', text)\n",
    "    text = re.sub(r'[^\\w\\s]', '', lower_strip(str(text)))\n",
    "    text = re.sub(r'\\d', ' ', text)\n",
    "    text = re.sub(r'\\s+', ' ', text)\n",
    "\n",
    "    return text\n",
    "\n",
    "def stopword(string):\n",
    "    a = [i for i in string.split() if i not in stopwords.words('english')]\n",
    "\n",
    "    return ' '.join(a)"
   ]
  },
  {
   "cell_type": "code",
   "execution_count": 9,
   "id": "02340a13",
   "metadata": {},
   "outputs": [],
   "source": [
    "# Initialize the lemmatizer\n",
    "wl = WordNetLemmatizer()\n",
    " \n",
    "# This is a helper function to map NTLK position tags\n",
    "def get_wordnet_pos(tag):\n",
    "    if tag.startswith('J'):\n",
    "        return wordnet.ADJ\n",
    "    elif tag.startswith('V'):\n",
    "        return wordnet.VERB\n",
    "    elif tag.startswith('N'):\n",
    "        return wordnet.NOUN\n",
    "    elif tag.startswith('R'):\n",
    "        return wordnet.ADV\n",
    "    else:\n",
    "        return wordnet.NOUN\n",
    "# Tokenize the sentence\n",
    "def lemmatizer(string):\n",
    "    word_pos_tags = nltk.pos_tag(word_tokenize(string)) # Get position tags\n",
    "    a=[wl.lemmatize(tag[0], get_wordnet_pos(tag[1])) for idx, tag in enumerate(word_pos_tags)] # Map the position tag and lemmatize the word/token\n",
    "    return \" \".join(a)"
   ]
  },
  {
   "cell_type": "code",
   "execution_count": 10,
   "id": "ee097297",
   "metadata": {},
   "outputs": [
    {
     "data": {
      "text/html": [
       "<div>\n",
       "<style scoped>\n",
       "    .dataframe tbody tr th:only-of-type {\n",
       "        vertical-align: middle;\n",
       "    }\n",
       "\n",
       "    .dataframe tbody tr th {\n",
       "        vertical-align: top;\n",
       "    }\n",
       "\n",
       "    .dataframe thead th {\n",
       "        text-align: right;\n",
       "    }\n",
       "</style>\n",
       "<table border=\"1\" class=\"dataframe\">\n",
       "  <thead>\n",
       "    <tr style=\"text-align: right;\">\n",
       "      <th></th>\n",
       "      <th>id</th>\n",
       "      <th>keyword</th>\n",
       "      <th>location</th>\n",
       "      <th>text</th>\n",
       "      <th>target</th>\n",
       "      <th>word_count</th>\n",
       "      <th>clean_text</th>\n",
       "    </tr>\n",
       "  </thead>\n",
       "  <tbody>\n",
       "    <tr>\n",
       "      <th>0</th>\n",
       "      <td>1</td>\n",
       "      <td>NaN</td>\n",
       "      <td>NaN</td>\n",
       "      <td>Our Deeds are the Reason of this #earthquake M...</td>\n",
       "      <td>1</td>\n",
       "      <td>13</td>\n",
       "      <td>deed reason earthquake may allah forgive u</td>\n",
       "    </tr>\n",
       "    <tr>\n",
       "      <th>1</th>\n",
       "      <td>4</td>\n",
       "      <td>NaN</td>\n",
       "      <td>NaN</td>\n",
       "      <td>Forest fire near La Ronge Sask. Canada</td>\n",
       "      <td>1</td>\n",
       "      <td>7</td>\n",
       "      <td>forest fire near la ronge sask canada</td>\n",
       "    </tr>\n",
       "    <tr>\n",
       "      <th>2</th>\n",
       "      <td>5</td>\n",
       "      <td>NaN</td>\n",
       "      <td>NaN</td>\n",
       "      <td>All residents asked to 'shelter in place' are ...</td>\n",
       "      <td>1</td>\n",
       "      <td>22</td>\n",
       "      <td>resident ask shelter place notify officer evac...</td>\n",
       "    </tr>\n",
       "    <tr>\n",
       "      <th>3</th>\n",
       "      <td>6</td>\n",
       "      <td>NaN</td>\n",
       "      <td>NaN</td>\n",
       "      <td>13,000 people receive #wildfires evacuation or...</td>\n",
       "      <td>1</td>\n",
       "      <td>8</td>\n",
       "      <td>people receive wildfire evacuation order calif...</td>\n",
       "    </tr>\n",
       "    <tr>\n",
       "      <th>4</th>\n",
       "      <td>7</td>\n",
       "      <td>NaN</td>\n",
       "      <td>NaN</td>\n",
       "      <td>Just got sent this photo from Ruby #Alaska as ...</td>\n",
       "      <td>1</td>\n",
       "      <td>16</td>\n",
       "      <td>get sent photo ruby alaska smoke wildfires pou...</td>\n",
       "    </tr>\n",
       "  </tbody>\n",
       "</table>\n",
       "</div>"
      ],
      "text/plain": [
       "   id keyword location                                               text  \\\n",
       "0   1     NaN      NaN  Our Deeds are the Reason of this #earthquake M...   \n",
       "1   4     NaN      NaN             Forest fire near La Ronge Sask. Canada   \n",
       "2   5     NaN      NaN  All residents asked to 'shelter in place' are ...   \n",
       "3   6     NaN      NaN  13,000 people receive #wildfires evacuation or...   \n",
       "4   7     NaN      NaN  Just got sent this photo from Ruby #Alaska as ...   \n",
       "\n",
       "   target  word_count                                         clean_text  \n",
       "0       1          13         deed reason earthquake may allah forgive u  \n",
       "1       1           7              forest fire near la ronge sask canada  \n",
       "2       1          22  resident ask shelter place notify officer evac...  \n",
       "3       1           8  people receive wildfire evacuation order calif...  \n",
       "4       1          16  get sent photo ruby alaska smoke wildfires pou...  "
      ]
     },
     "execution_count": 10,
     "metadata": {},
     "output_type": "execute_result"
    }
   ],
   "source": [
    "def finalpreprocess(string):\n",
    "    return lemmatizer(stopword(preprocess(string)))\n",
    "\n",
    "train_df['clean_text'] = train_df['text'].apply(lambda x: finalpreprocess(x))\n",
    "train_df.head()"
   ]
  },
  {
   "cell_type": "markdown",
   "id": "6d7948ee",
   "metadata": {},
   "source": [
    "## Extracting vectors from text\n",
    "it is difficult to work with text data directly, so we will convert the text into vectors."
   ]
  },
  {
   "cell_type": "code",
   "execution_count": 11,
   "id": "a3bf85e8",
   "metadata": {},
   "outputs": [],
   "source": [
    "# splitting the data in to train and test data\n",
    "X_train, X_test, y_train, y_test = train_test_split(train_df['clean_text'], train_df['target'], test_size=0.2, shuffle=True)\n",
    "\n",
    "# word2vec\n",
    "X_train_tok = [nltk.word_tokenize(i) for i in X_train]\n",
    "X_test_tok = [nltk.word_tokenize(i) for i in X_test]"
   ]
  },
  {
   "cell_type": "code",
   "execution_count": 13,
   "id": "3ec1d1c3",
   "metadata": {},
   "outputs": [],
   "source": [
    "#Tf-Idf\n",
    "tfidf_vectorizer = TfidfVectorizer(use_idf=True)\n",
    "X_train_vectors_tfidf = tfidf_vectorizer.fit_transform(X_train) \n",
    "X_test_vectors_tfidf = tfidf_vectorizer.transform(X_test)\n",
    "\n",
    "#building Word2Vec model\n",
    "class MeanEmbeddingVectorizer(object):\n",
    "    def __init__(self, word2vec):\n",
    "        self.word2vec = word2vec\n",
    "        # if a text is empty we should return a vector of zeros\n",
    "        # with the same dimensionality as all the other vectors\n",
    "        self.dim = len(next(iter(word2vec.values())))\n",
    "    \n",
    "    def fit(self, X, y):\n",
    "        return self\n",
    "    \n",
    "    def transform(self, X):\n",
    "        return np.array([\n",
    "            np.mean([self.word2vec[w] for w in words if w in self.word2vec]\n",
    "                    or [np.zeros(self.dim)], axis=0)\n",
    "            for words in X\n",
    "        ])\n",
    "\n",
    "# Create tokenized versions of clean_text for training\n",
    "train_df['clean_text_tok'] = [nltk.word_tokenize(i) for i in train_df['clean_text']]\n",
    "\n",
    "# Train Word2Vec model\n",
    "model = Word2Vec(train_df['clean_text_tok'], min_count=1)\n",
    "\n",
    "# Convert Word2Vec model to dictionary format\n",
    "w2v = dict(zip(model.wv.index_to_key, model.wv.vectors))\n",
    "\n",
    "# Create vectorizer\n",
    "modelw = MeanEmbeddingVectorizer(w2v)\n",
    "\n",
    "# Converting text to numerical data using Word2Vec\n",
    "X_train_vectors_w2v = modelw.transform(X_train_tok)\n",
    "X_test_vectors_w2v = modelw.transform(X_test_tok)"
   ]
  },
  {
   "cell_type": "code",
   "execution_count": 14,
   "id": "9ddf773f",
   "metadata": {},
   "outputs": [
    {
     "name": "stdout",
     "output_type": "stream",
     "text": [
      "              precision    recall  f1-score   support\n",
      "\n",
      "           0       0.81      0.82      0.81       877\n",
      "           1       0.75      0.73      0.74       646\n",
      "\n",
      "    accuracy                           0.78      1523\n",
      "   macro avg       0.78      0.78      0.78      1523\n",
      "weighted avg       0.78      0.78      0.78      1523\n",
      "\n",
      "Confusion Matrix: [[719 158]\n",
      " [174 472]]\n",
      "AUC: 0.8527037713002743\n"
     ]
    }
   ],
   "source": [
    "lr_tfidf=LogisticRegression(solver = 'liblinear', C=10, penalty = 'l2')\n",
    "lr_tfidf.fit(X_train_vectors_tfidf, y_train)  \n",
    "#Predict y value for test dataset\n",
    "y_predict = lr_tfidf.predict(X_test_vectors_tfidf)\n",
    "y_prob = lr_tfidf.predict_proba(X_test_vectors_tfidf)[:,1]\n",
    "print(classification_report(y_test,y_predict))\n",
    "print('Confusion Matrix:',confusion_matrix(y_test, y_predict))\n",
    " \n",
    "fpr, tpr, thresholds = roc_curve(y_test, y_prob)\n",
    "roc_auc = auc(fpr, tpr)\n",
    "print('AUC:', roc_auc)"
   ]
  },
  {
   "cell_type": "code",
   "execution_count": 15,
   "id": "180951fa",
   "metadata": {},
   "outputs": [
    {
     "name": "stdout",
     "output_type": "stream",
     "text": [
      "              precision    recall  f1-score   support\n",
      "\n",
      "           0       0.78      0.91      0.84       877\n",
      "           1       0.84      0.64      0.73       646\n",
      "\n",
      "    accuracy                           0.80      1523\n",
      "   macro avg       0.81      0.78      0.78      1523\n",
      "weighted avg       0.80      0.80      0.79      1523\n",
      "\n",
      "Confusion Matrix: [[800  77]\n",
      " [232 414]]\n",
      "AUC: 0.8546259588874259\n"
     ]
    }
   ],
   "source": [
    "#FITTING THE CLASSIFICATION MODEL using Naive Bayes(tf-idf)\n",
    "nb_tfidf = MultinomialNB()\n",
    "nb_tfidf.fit(X_train_vectors_tfidf, y_train)  \n",
    "#Predict y value for test dataset\n",
    "y_predict = nb_tfidf.predict(X_test_vectors_tfidf)\n",
    "y_prob = nb_tfidf.predict_proba(X_test_vectors_tfidf)[:,1]\n",
    "print(classification_report(y_test,y_predict))\n",
    "print('Confusion Matrix:',confusion_matrix(y_test, y_predict))\n",
    " \n",
    "fpr, tpr, thresholds = roc_curve(y_test, y_prob)\n",
    "roc_auc = auc(fpr, tpr)\n",
    "print('AUC:', roc_auc)"
   ]
  },
  {
   "cell_type": "code",
   "execution_count": 17,
   "id": "3d6abe56",
   "metadata": {},
   "outputs": [
    {
     "name": "stdout",
     "output_type": "stream",
     "text": [
      "                                          clean_text  target\n",
      "0                          happen terrible car crash       1\n",
      "1  heard earthquake different city stay safe ever...       1\n",
      "2  forest fire spot pond geese flee across street...       1\n",
      "3                  apocalypse light spokane wildfire       1\n",
      "4                 typhoon soudelor kill china taiwan       1\n"
     ]
    }
   ],
   "source": [
    "#Pre-processing the new dataset\n",
    "test_df['clean_text'] = test_df['text'].apply(lambda x: finalpreprocess(x)) #preprocess the data\n",
    "X_test=test_df['clean_text'] \n",
    "#converting words to numerical data using tf-idf\n",
    "X_vector=tfidf_vectorizer.transform(X_test)\n",
    "#use the best model to predict 'target' value for the new dataset \n",
    "y_predict = lr_tfidf.predict(X_vector)      \n",
    "y_prob = lr_tfidf.predict_proba(X_vector)[:,1]\n",
    "test_df['predict_prob']= y_prob\n",
    "test_df['target']= y_predict\n",
    "final=test_df[['clean_text','target']].reset_index(drop=True)\n",
    "print(final.head())"
   ]
  },
  {
   "cell_type": "markdown",
   "id": "a3dbc874",
   "metadata": {},
   "source": [
    "You can further enhance the performance of your model using this code by\n",
    "\n",
    "- using other classification algorithms like Support Vector Machines (SVM), XgBoost, Ensemble models, Neural networks etc.\n",
    "- using Gridsearch to tune the hyperparameters of your model\n",
    "- using advanced word-embedding methods like GloVe and BERT"
   ]
  },
  {
   "cell_type": "markdown",
   "id": "861bd03f",
   "metadata": {},
   "source": []
  }
 ],
 "metadata": {
  "kernelspec": {
   "display_name": "base",
   "language": "python",
   "name": "python3"
  },
  "language_info": {
   "codemirror_mode": {
    "name": "ipython",
    "version": 3
   },
   "file_extension": ".py",
   "mimetype": "text/x-python",
   "name": "python",
   "nbconvert_exporter": "python",
   "pygments_lexer": "ipython3",
   "version": "3.12.7"
  }
 },
 "nbformat": 4,
 "nbformat_minor": 5
}
